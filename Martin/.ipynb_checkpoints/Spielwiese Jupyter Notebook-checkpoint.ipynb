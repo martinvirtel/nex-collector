{
 "cells": [
  {
   "cell_type": "code",
   "execution_count": 1,
   "metadata": {},
   "outputs": [
    {
     "name": "stdout",
     "output_type": "stream",
     "text": [
      "test\n"
     ]
    }
   ],
   "source": [
    "import spielwiese\n"
   ]
  },
  {
   "cell_type": "code",
   "execution_count": 4,
   "metadata": {
    "collapsed": true
   },
   "outputs": [],
   "source": [
    "wiki=1448\n",
    "def wiki_query(wiki):\n",
    "    \n",
    "    pageid =str (wiki)\n",
    "    api_url= \"https://de.wikipedia.org/w/api.php?action=query&format=json&prop=pageprops&pageids=\"\n",
    "    #pageid=\"736\"\n",
    "    url=\"\".join([api_url,pageid])\n",
    "\n",
    "        \n",
    "\n",
    "\n",
    "    f = urllib.request.urlopen(url)\n",
    "    response=(f.read().decode('utf-8'))\n",
    "    response= response.split(\":\")\n",
    "\n",
    "    #print(response)\n",
    "    wikidata_id = response[12]\n",
    "    wikidata_id = wikidata_id.replace(\"'\", \"\")\n",
    "    wikidata_id = wikidata_id.replace('\"', \"\")\n",
    "    wikidata_id = wikidata_id.replace('}', \"\")\n",
    "    print(\"WIKIDATA ID: \",wikidata_id)\n",
    "\n",
    "    wikidata_base=\"https://www.wikidata.org/wiki/\"\n",
    "    wikidata_url= \"\".join([wikidata_base,wikidata_id])\n",
    "    wikipedia_base= \"https://en.wikipedia.org/wiki?curid=\"\n",
    "    wikipedia_url= \"\".join ([wikipedia_base,pageid])\n",
    "    print('URL WIKIDATA: ', wikidata_url)\n",
    "    print ('URL WIKIPEDIA: ', wikipedia_url)"
   ]
  },
  {
   "cell_type": "code",
   "execution_count": 2,
   "metadata": {},
   "outputs": [
    {
     "name": "stdout",
     "output_type": "stream",
     "text": [
      "hallo welt\n"
     ]
    }
   ],
   "source": [
    "spielwiese.hallo(\"welt\")"
   ]
  }
 ],
 "metadata": {
  "kernelspec": {
   "display_name": "Python 3",
   "language": "python",
   "name": "python3"
  },
  "language_info": {
   "codemirror_mode": {
    "name": "ipython",
    "version": 3
   },
   "file_extension": ".py",
   "mimetype": "text/x-python",
   "name": "python",
   "nbconvert_exporter": "python",
   "pygments_lexer": "ipython3",
   "version": "3.6.1"
  }
 },
 "nbformat": 4,
 "nbformat_minor": 2
}
