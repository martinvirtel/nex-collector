{
 "cells": [
  {
   "cell_type": "markdown",
   "metadata": {},
   "source": [
    "#### tuple ( )"
   ]
  },
  {
   "cell_type": "code",
   "execution_count": 1,
   "metadata": {
    "scrolled": true
   },
   "outputs": [
    {
     "name": "stdout",
     "output_type": "stream",
     "text": [
      "1\n",
      "2\n",
      "3\n"
     ]
    }
   ],
   "source": [
    "for variable in (1,2,3) :\n",
    "    print(variable)"
   ]
  },
  {
   "cell_type": "markdown",
   "metadata": {},
   "source": [
    "Hier kann man beliebige Notizen einfuegen."
   ]
  },
  {
   "cell_type": "markdown",
   "metadata": {},
   "source": [
    "#### array [ ]  - https://docs.python.org/3.6/tutorial/datastructures.html"
   ]
  },
  {
   "cell_type": "code",
   "execution_count": 2,
   "metadata": {},
   "outputs": [
    {
     "name": "stdout",
     "output_type": "stream",
     "text": [
      "1\n",
      "2\n",
      "was anderes\n",
      "3\n",
      "4\n",
      "3\n",
      "3= 3 ------ 2:4= ['was anderes', 3]\n"
     ]
    }
   ],
   "source": [
    "array = [1,2,\"was anderes\",3,4]\n",
    "array.append(3)\n",
    "\n",
    "for v in array :\n",
    "    print(v)\n",
    "    \n",
    "\n",
    "print(\"3=\",array[3], \"------ 2:4=\", array[2:4])"
   ]
  },
  {
   "cell_type": "code",
   "execution_count": 3,
   "metadata": {},
   "outputs": [
    {
     "name": "stdout",
     "output_type": "stream",
     "text": [
      "D1\n"
     ]
    }
   ],
   "source": [
    "schachbrett = [[\"A1\",\"B1\",\"C1\",\"D1\"],[],[],[],[],[],[],[\"A8\",\"B8\",\"C8\"]]\n",
    "\n",
    "print(schachbrett[0][3])\n"
   ]
  },
  {
   "cell_type": "code",
   "execution_count": 4,
   "metadata": {},
   "outputs": [
    {
     "data": {
      "text/plain": [
       "'[[\"A1\", \"B1\", \"C1\", \"D1\"], [], [], [], [], [], [], [\"A8\", \"B8\", \"C8\"]]'"
      ]
     },
     "execution_count": 4,
     "metadata": {},
     "output_type": "execute_result"
    }
   ],
   "source": [
    "import json\n",
    "json.dumps(schachbrett)"
   ]
  },
  {
   "cell_type": "markdown",
   "metadata": {},
   "source": [
    "#### dictionary https://docs.python.org/3.6/tutorial/datastructures.html#dictionaries"
   ]
  },
  {
   "cell_type": "code",
   "execution_count": 5,
   "metadata": {},
   "outputs": [
    {
     "data": {
      "text/plain": [
       "'{\"name\": \"Martin\", \"Jahr\": 1968}'"
      ]
     },
     "execution_count": 5,
     "metadata": {},
     "output_type": "execute_result"
    }
   ],
   "source": [
    "dictionary={\"name\": \"Martin\", \"Jahr\": 1968}\n",
    "\n",
    "json.dumps(dictionary)\n",
    "\n"
   ]
  },
  {
   "cell_type": "code",
   "execution_count": 6,
   "metadata": {},
   "outputs": [
    {
     "name": "stdout",
     "output_type": "stream",
     "text": [
      "name\n",
      "Jahr\n"
     ]
    }
   ],
   "source": [
    "for variable in dictionary :\n",
    "    print(variable)"
   ]
  },
  {
   "cell_type": "code",
   "execution_count": 7,
   "metadata": {},
   "outputs": [
    {
     "name": "stdout",
     "output_type": "stream",
     "text": [
      "key= name value= Martin\n",
      "key= Jahr value= 1968\n"
     ]
    }
   ],
   "source": [
    "for (key,value) in dictionary.items() :\n",
    "    print(\"key=\", key, \"value=\", value)"
   ]
  },
  {
   "cell_type": "code",
   "execution_count": 9,
   "metadata": {},
   "outputs": [
    {
     "name": "stdout",
     "output_type": "stream",
     "text": [
      "ANALYSE-FLASH: Berenberg hebt Ziel für Puma SE auf 320 Euro - \"Buy\"\n"
     ]
    }
   ],
   "source": [
    "meldungen=[json.load(open(\"outputs/DPA-Meldungen/Februar 2017/2017-02-13/urn_newsml_dpa-afx.de_ADE_20170213T120243+0100_br156xgv-1.json\")),\n",
    "         15,\n",
    "         json.load(open(\"outputs/DPA-Meldungen/Februar 2017/2017-02-13/urn_newsml_dpa-afx.de_ADE_20170213T123343+0100_br157rav-1.json\")),\n",
    "        ]\n",
    "\n",
    "print(meldungen[2][\"dpaTitle\"])"
   ]
  },
  {
   "cell_type": "code",
   "execution_count": 11,
   "metadata": {},
   "outputs": [
    {
     "name": "stdout",
     "output_type": "stream",
     "text": [
      "[{'createdAt': '2017-02-13T11:03:03Z',\n",
      "  'dpaId': 'urn:newsml:dpa-afx.de:ADE:20170213T120243+0100:br156xg/1',\n",
      "  'dpaTitle': 'ANALYSE-FLASH: JPMorgan hebt Ziel für GlaxoSmithKline auf 1670 '\n",
      "              'Pence - \"Neutral\"',\n",
      "  'text': 'NEW YORK (dpa-AFX Broker) - Die US-Bank JPMorgan hat das Kursziel '\n",
      "          'für GlaxoSmithKline <GB0009252882> nach Zahlen zum vierten Quartal '\n",
      "          'von 1600 auf 1670 Pence angehoben und die Einstufung auf \"Neutral\" '\n",
      "          'belassen. In Reaktion auf die Resultate des britischen '\n",
      "          'Pharmakonzerns habe er seine Prognose für das durchschnittliche '\n",
      "          'jährliche Gewinnwachstum (Core EPS) der Jahre 2018 bis 2021 von 4 '\n",
      "          'auf 5 Prozent erhöht, schrieb Analyst James Gordon in einer Studie '\n",
      "          'vom Montag./edh/ajx ----------------------- dpa-AFX Broker - die '\n",
      "          'Trader News von dpa-AFX -----------------------'},\n",
      " 15,\n",
      " {'createdAt': '2017-02-13T11:34:03Z',\n",
      "  'dpaId': 'urn:newsml:dpa-afx.de:ADE:20170213T123343+0100:br157ra/1',\n",
      "  'dpaTitle': 'ANALYSE-FLASH: Berenberg hebt Ziel für Puma SE auf 320 Euro - '\n",
      "              '\"Buy\"',\n",
      "  'text': 'HAMBURG (dpa-AFX Broker) - Die Privatbank Berenberg hat das '\n",
      "          'Kursziel für Puma SE <DE0006969603> nach Zahlen von 277 auf 320 '\n",
      "          'Euro angehoben und die Einstufung auf \"Buy\" belassen. Die '\n",
      "          'Kennziffern zum vierten Quartal hätten deutliche Fortschritte '\n",
      "          'erkennen lassen hinsichtlich der Kehrtwende des '\n",
      "          'Sportartikelherstellers, schrieb Analystin Zuzanna Pusz in einer '\n",
      "          'Studie vom Montag. Sie erhöhte ihre Prognosen./ajx/la '\n",
      "          '----------------------- dpa-AFX Broker - die Trader News von '\n",
      "          'dpa-AFX -----------------------'}]\n"
     ]
    }
   ],
   "source": [
    "import pprint\n",
    "pprint.pprint(meldungen)"
   ]
  },
  {
   "cell_type": "code",
   "execution_count": 12,
   "metadata": {},
   "outputs": [
    {
     "name": "stdout",
     "output_type": "stream",
     "text": [
      "{'annotations': [{'confidence': 0.8228,\n",
      "                  'end': 8,\n",
      "                  'id': 71267,\n",
      "                  'label': 'Iserlohn',\n",
      "                  'spot': 'Iserlohn',\n",
      "                  'start': 0,\n",
      "                  'title': 'Iserlohn',\n",
      "                  'uri': 'http://de.wikipedia.org/wiki/Iserlohn'},\n",
      "                 {'confidence': 0.7783,\n",
      "                  'end': 13,\n",
      "                  'id': 52002,\n",
      "                  'label': 'Dpa',\n",
      "                  'spot': 'dpa',\n",
      "                  'start': 10,\n",
      "                  'title': 'Deutsche Presse-Agentur',\n",
      "                  'uri': 'http://de.wikipedia.org/wiki/Deutsche_Presse-Agentur'},\n",
      "                 {'confidence': 0.6058,\n",
      "                  'end': 58,\n",
      "                  'id': 152567,\n",
      "                  'label': 'Balkon',\n",
      "                  'spot': 'Balkon',\n",
      "                  'start': 52,\n",
      "                  'title': 'Balkon',\n",
      "                  'uri': 'http://de.wikipedia.org/wiki/Balkon'},\n",
      "                 {'confidence': 0.7886,\n",
      "                  'end': 88,\n",
      "                  'id': 21544,\n",
      "                  'label': 'Sauerland',\n",
      "                  'spot': 'Sauerland',\n",
      "                  'start': 79,\n",
      "                  'title': 'Sauerland',\n",
      "                  'uri': 'http://de.wikipedia.org/wiki/Sauerland'},\n",
      "                 {'confidence': 0.7407,\n",
      "                  'end': 386,\n",
      "                  'id': 2200,\n",
      "                  'label': 'Hubschrauber',\n",
      "                  'spot': 'Hubschrauber',\n",
      "                  'start': 374,\n",
      "                  'title': 'Hubschrauber',\n",
      "                  'uri': 'http://de.wikipedia.org/wiki/Hubschrauber'},\n",
      "                 {'confidence': 0.8228,\n",
      "                  'end': 428,\n",
      "                  'id': 71267,\n",
      "                  'label': 'Iserlohn',\n",
      "                  'spot': 'Iserlohn',\n",
      "                  'start': 420,\n",
      "                  'title': 'Iserlohn',\n",
      "                  'uri': 'http://de.wikipedia.org/wiki/Iserlohn'},\n",
      "                 {'confidence': 0.7302,\n",
      "                  'end': 446,\n",
      "                  'id': 39403,\n",
      "                  'label': 'Märkischen Kreis',\n",
      "                  'spot': 'Märkischer Kreis',\n",
      "                  'start': 430,\n",
      "                  'title': 'Märkischer Kreis',\n",
      "                  'uri': 'http://de.wikipedia.org/wiki/M%C3%A4rkischer_Kreis'},\n",
      "                 {'confidence': 0.6341,\n",
      "                  'end': 466,\n",
      "                  'id': 14104,\n",
      "                  'label': 'Krankenhaus',\n",
      "                  'spot': 'Krankenhaus',\n",
      "                  'start': 455,\n",
      "                  'title': 'Krankenhaus',\n",
      "                  'uri': 'http://de.wikipedia.org/wiki/Krankenhaus'},\n",
      "                 {'confidence': 0.7675,\n",
      "                  'end': 478,\n",
      "                  'id': 15096,\n",
      "                  'label': 'Bochum',\n",
      "                  'spot': 'Bochum',\n",
      "                  'start': 472,\n",
      "                  'title': 'Bochum',\n",
      "                  'uri': 'http://de.wikipedia.org/wiki/Bochum'},\n",
      "                 {'confidence': 0.6474,\n",
      "                  'end': 535,\n",
      "                  'id': 20385,\n",
      "                  'label': 'Polizei',\n",
      "                  'spot': 'Polizei',\n",
      "                  'start': 528,\n",
      "                  'title': 'Polizei',\n",
      "                  'uri': 'http://de.wikipedia.org/wiki/Polizei'}],\n",
      " 'lang': 'de',\n",
      " 'langConfidence': 1.0,\n",
      " 'time': 17,\n",
      " 'timestamp': '2017-04-19T15:33:48.649'}\n"
     ]
    }
   ],
   "source": [
    "response=json.load(open(\"dandelion-response.json\"))\n",
    "pprint.pprint(response)"
   ]
  },
  {
   "cell_type": "code",
   "execution_count": 13,
   "metadata": {},
   "outputs": [
    {
     "name": "stdout",
     "output_type": "stream",
     "text": [
      "Hubschrauber\n"
     ]
    }
   ],
   "source": [
    "print(response[\"annotations\"][4]['title'])"
   ]
  },
  {
   "cell_type": "code",
   "execution_count": 14,
   "metadata": {
    "scrolled": true
   },
   "outputs": [
    {
     "name": "stdout",
     "output_type": "stream",
     "text": [
      "4\n",
      "string\n",
      "<_io.TextIOWrapper name='outputs/DPA-Meldungen/Februar 2017/2017-02-13/urn_newsml_dpa-afx.de_ADE_20170213T120243+0100_br156xgv-1.json' mode='r' encoding='UTF-8'>\n"
     ]
    }
   ],
   "source": [
    "array=[4,\"string\",open(\"outputs/DPA-Meldungen/Februar 2017/2017-02-13/urn_newsml_dpa-afx.de_ADE_20170213T120243+0100_br156xgv-1.json\")]\n",
    "\n",
    "for variable in array :\n",
    "    print(variable)"
   ]
  },
  {
   "cell_type": "code",
   "execution_count": null,
   "metadata": {
    "collapsed": true
   },
   "outputs": [],
   "source": []
  },
  {
   "cell_type": "code",
   "execution_count": 15,
   "metadata": {},
   "outputs": [
    {
     "name": "stdout",
     "output_type": "stream",
     "text": [
      "0            Iserlohn\n",
      "1                 Dpa\n",
      "2              Balkon\n",
      "3           Sauerland\n",
      "4        Hubschrauber\n",
      "5            Iserlohn\n",
      "6    Märkischen Kreis\n",
      "7         Krankenhaus\n",
      "8              Bochum\n",
      "9             Polizei\n",
      "Name: label, dtype: object\n"
     ]
    }
   ],
   "source": [
    "import pandas\n",
    "tabelle=pandas.DataFrame.from_records(response['annotations'])\n",
    "\n",
    "print(tabelle[\"label\"])"
   ]
  },
  {
   "cell_type": "code",
   "execution_count": 16,
   "metadata": {},
   "outputs": [
    {
     "data": {
      "text/plain": [
       "pandas.core.frame.DataFrame"
      ]
     },
     "execution_count": 16,
     "metadata": {},
     "output_type": "execute_result"
    }
   ],
   "source": [
    "type(tabelle)"
   ]
  },
  {
   "cell_type": "code",
   "execution_count": 17,
   "metadata": {},
   "outputs": [
    {
     "name": "stdout",
     "output_type": "stream",
     "text": [
      "confidence\n",
      "end\n",
      "id\n",
      "label\n",
      "spot\n",
      "start\n",
      "title\n",
      "uri\n"
     ]
    }
   ],
   "source": [
    "for v in tabelle:\n",
    "    print(v)"
   ]
  },
  {
   "cell_type": "code",
   "execution_count": 18,
   "metadata": {},
   "outputs": [
    {
     "name": "stdout",
     "output_type": "stream",
     "text": [
      "0.73382\n"
     ]
    }
   ],
   "source": [
    "print(tabelle[\"confidence\"].mean()) "
   ]
  },
  {
   "cell_type": "code",
   "execution_count": 19,
   "metadata": {},
   "outputs": [
    {
     "name": "stdout",
     "output_type": "stream",
     "text": [
      "  lang    name    year\n",
      "0  NaN  Martin  1968.0\n",
      "1   ca    Alex     NaN\n"
     ]
    }
   ],
   "source": [
    "print(pandas.DataFrame.from_records(\n",
    "  [\n",
    "   { \"name\" : \"Martin\", \"year\": 1968 },\n",
    "   { \"name\"  : \"Alex\", \"lang\" : \"ca\" }   \n",
    "  ]\n",
    "))"
   ]
  },
  {
   "cell_type": "code",
   "execution_count": 20,
   "metadata": {},
   "outputs": [
    {
     "name": "stdout",
     "output_type": "stream",
     "text": [
      "{1, 2, 3, 5, 6}\n",
      "1\n",
      "2\n",
      "3\n",
      "5\n",
      "6\n",
      "19\n"
     ]
    }
   ],
   "source": [
    "python_set={1,3,5,6,2,2}\n",
    "\n",
    "print(python_set)\n",
    "\n",
    "python_set.add(19)\n",
    "\n",
    "for variable in python_set :\n",
    "    print(variable)"
   ]
  },
  {
   "cell_type": "code",
   "execution_count": 21,
   "metadata": {},
   "outputs": [
    {
     "name": "stdout",
     "output_type": "stream",
     "text": [
      "   confidence  end      id             label              spot  start  \\\n",
      "0      0.8228    8   71267          Iserlohn          Iserlohn      0   \n",
      "1      0.7783   13   52002               Dpa               dpa     10   \n",
      "2      0.6058   58  152567            Balkon            Balkon     52   \n",
      "3      0.7886   88   21544         Sauerland         Sauerland     79   \n",
      "4      0.7407  386    2200      Hubschrauber      Hubschrauber    374   \n",
      "5      0.8228  428   71267          Iserlohn          Iserlohn    420   \n",
      "6      0.7302  446   39403  Märkischen Kreis  Märkischer Kreis    430   \n",
      "7      0.6341  466   14104       Krankenhaus       Krankenhaus    455   \n",
      "8      0.7675  478   15096            Bochum            Bochum    472   \n",
      "9      0.6474  535   20385           Polizei           Polizei    528   \n",
      "0      0.8228    8   71267          Iserlohn          Iserlohn      0   \n",
      "1      0.7783   13   52002               Dpa               dpa     10   \n",
      "2      0.6058   58  152567            Balkon            Balkon     52   \n",
      "3      0.7886   88   21544         Sauerland         Sauerland     79   \n",
      "4      0.7407  386    2200      Hubschrauber      Hubschrauber    374   \n",
      "5      0.8228  428   71267          Iserlohn          Iserlohn    420   \n",
      "6      0.7302  446   39403  Märkischen Kreis  Märkischer Kreis    430   \n",
      "7      0.6341  466   14104       Krankenhaus       Krankenhaus    455   \n",
      "8      0.7675  478   15096            Bochum            Bochum    472   \n",
      "9      0.6474  535   20385           Polizei           Polizei    528   \n",
      "\n",
      "                     title                                                uri  \n",
      "0                 Iserlohn              http://de.wikipedia.org/wiki/Iserlohn  \n",
      "1  Deutsche Presse-Agentur  http://de.wikipedia.org/wiki/Deutsche_Presse-A...  \n",
      "2                   Balkon                http://de.wikipedia.org/wiki/Balkon  \n",
      "3                Sauerland             http://de.wikipedia.org/wiki/Sauerland  \n",
      "4             Hubschrauber          http://de.wikipedia.org/wiki/Hubschrauber  \n",
      "5                 Iserlohn              http://de.wikipedia.org/wiki/Iserlohn  \n",
      "6         Märkischer Kreis  http://de.wikipedia.org/wiki/M%C3%A4rkischer_K...  \n",
      "7              Krankenhaus           http://de.wikipedia.org/wiki/Krankenhaus  \n",
      "8                   Bochum                http://de.wikipedia.org/wiki/Bochum  \n",
      "9                  Polizei               http://de.wikipedia.org/wiki/Polizei  \n",
      "0                 Iserlohn              http://de.wikipedia.org/wiki/Iserlohn  \n",
      "1  Deutsche Presse-Agentur  http://de.wikipedia.org/wiki/Deutsche_Presse-A...  \n",
      "2                   Balkon                http://de.wikipedia.org/wiki/Balkon  \n",
      "3                Sauerland             http://de.wikipedia.org/wiki/Sauerland  \n",
      "4             Hubschrauber          http://de.wikipedia.org/wiki/Hubschrauber  \n",
      "5                 Iserlohn              http://de.wikipedia.org/wiki/Iserlohn  \n",
      "6         Märkischer Kreis  http://de.wikipedia.org/wiki/M%C3%A4rkischer_K...  \n",
      "7              Krankenhaus           http://de.wikipedia.org/wiki/Krankenhaus  \n",
      "8                   Bochum                http://de.wikipedia.org/wiki/Bochum  \n",
      "9                  Polizei               http://de.wikipedia.org/wiki/Polizei  \n"
     ]
    }
   ],
   "source": [
    "tabelle2=tabelle.append(tabelle)\n",
    "print(tabelle2)"
   ]
  },
  {
   "cell_type": "code",
   "execution_count": 22,
   "metadata": {},
   "outputs": [
    {
     "name": "stdout",
     "output_type": "stream",
     "text": [
      "{'Hubschrauber', 'Polizei', 'Deutsche Presse-Agentur', 'Iserlohn', 'Krankenhaus', 'Sauerland', 'Bochum', 'Märkischer Kreis', 'Balkon'}\n"
     ]
    }
   ],
   "source": [
    "\n",
    "python_set2=set()\n",
    "for element in tabelle2[\"title\"] :\n",
    "    python_set2.add(element)\n",
    "    \n",
    "print(python_set2)"
   ]
  }
 ],
 "metadata": {
  "kernelspec": {
   "display_name": "Python 3",
   "language": "python",
   "name": "python3"
  },
  "language_info": {
   "codemirror_mode": {
    "name": "ipython",
    "version": 3
   },
   "file_extension": ".py",
   "mimetype": "text/x-python",
   "name": "python",
   "nbconvert_exporter": "python",
   "pygments_lexer": "ipython3",
   "version": "3.6.1"
  }
 },
 "nbformat": 4,
 "nbformat_minor": 2
}
